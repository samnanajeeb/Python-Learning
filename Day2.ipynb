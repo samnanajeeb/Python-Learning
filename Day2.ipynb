{
  "nbformat": 4,
  "nbformat_minor": 0,
  "metadata": {
    "colab": {
      "name": "Day2.ipynb",
      "provenance": [],
      "authorship_tag": "ABX9TyNPrp50p3XMLget9rbxs0r6",
      "include_colab_link": true
    },
    "kernelspec": {
      "name": "python3",
      "display_name": "Python 3"
    },
    "language_info": {
      "name": "python"
    }
  },
  "cells": [
    {
      "cell_type": "markdown",
      "metadata": {
        "id": "view-in-github",
        "colab_type": "text"
      },
      "source": [
        "<a href=\"https://colab.research.google.com/github/samnanajeeb/Python-Learning/blob/main/Day2.ipynb\" target=\"_parent\"><img src=\"https://colab.research.google.com/assets/colab-badge.svg\" alt=\"Open In Colab\"/></a>"
      ]
    },
    {
      "cell_type": "markdown",
      "source": [
        "\n",
        "\n",
        "```\n",
        "Welcome to week 2!\n",
        "Loops\n",
        "What are loops for?\n",
        "for loops\n",
        "Looping a number of times\n",
        "while loops\n",
        "Lists (collections)\n",
        "How to create lists\n",
        "Working with lists\n",
        "Lists are mutable\n",
        "Strings to lists (and back)\n",
        "str.split method\n",
        "str.join method\n",
        "Tuples\n",
        "Tuple unpacking\n",
        "```\n",
        "\n"
      ],
      "metadata": {
        "id": "ev49W2xlGEqT"
      }
    },
    {
      "cell_type": "code",
      "source": [
        "# I want to print each of the characters in s\n",
        "s = 'samna'\n",
        "print(s[0])\n",
        "print(s[1])\n",
        "print(s[2])\n",
        "print(s[3])\n",
        "print(s[4])"
      ],
      "metadata": {
        "colab": {
          "base_uri": "https://localhost:8080/"
        },
        "id": "tqSP7vTtGPi1",
        "outputId": "302f6b79-2b98-4e50-84fb-eb891eedda5c"
      },
      "execution_count": 3,
      "outputs": [
        {
          "output_type": "stream",
          "name": "stdout",
          "text": [
            "s\n",
            "a\n",
            "m\n",
            "n\n",
            "a\n"
          ]
        }
      ]
    },
    {
      "cell_type": "code",
      "source": [
        "s = 'samna'\n",
        "for i in s:\n",
        "  print(i)"
      ],
      "metadata": {
        "colab": {
          "base_uri": "https://localhost:8080/"
        },
        "id": "XukFbyrUIBU8",
        "outputId": "f3b64b99-7f21-4cfb-8169-7a20d53863bb"
      },
      "execution_count": 4,
      "outputs": [
        {
          "output_type": "stream",
          "name": "stdout",
          "text": [
            "s\n",
            "a\n",
            "m\n",
            "n\n",
            "a\n"
          ]
        }
      ]
    },
    {
      "cell_type": "markdown",
      "source": [
        "Int object is not iterable"
      ],
      "metadata": {
        "id": "Y5o5GjsdIvH8"
      }
    },
    {
      "cell_type": "code",
      "source": [
        "for i in 5:\n",
        "  print(i)"
      ],
      "metadata": {
        "colab": {
          "base_uri": "https://localhost:8080/",
          "height": 187
        },
        "id": "7Eloc3qHIxya",
        "outputId": "91baabb3-5308-4331-ef2e-cd20a8cd0b87"
      },
      "execution_count": 5,
      "outputs": [
        {
          "output_type": "error",
          "ename": "TypeError",
          "evalue": "ignored",
          "traceback": [
            "\u001b[0;31m---------------------------------------------------------------------------\u001b[0m",
            "\u001b[0;31mTypeError\u001b[0m                                 Traceback (most recent call last)",
            "\u001b[0;32m<ipython-input-5-66389f0e929b>\u001b[0m in \u001b[0;36m<module>\u001b[0;34m()\u001b[0m\n\u001b[0;32m----> 1\u001b[0;31m \u001b[0;32mfor\u001b[0m \u001b[0mi\u001b[0m \u001b[0;32min\u001b[0m \u001b[0;36m5\u001b[0m\u001b[0;34m:\u001b[0m\u001b[0;34m\u001b[0m\u001b[0;34m\u001b[0m\u001b[0m\n\u001b[0m\u001b[1;32m      2\u001b[0m   \u001b[0mprint\u001b[0m\u001b[0;34m(\u001b[0m\u001b[0mi\u001b[0m\u001b[0;34m)\u001b[0m\u001b[0;34m\u001b[0m\u001b[0;34m\u001b[0m\u001b[0m\n",
            "\u001b[0;31mTypeError\u001b[0m: 'int' object is not iterable"
          ]
        }
      ]
    },
    {
      "cell_type": "markdown",
      "source": [
        "**Exercise: Vowel and others counter**"
      ],
      "metadata": {
        "id": "JA_8hZ1FJAfR"
      }
    },
    {
      "cell_type": "code",
      "source": [
        "\"\"\" Exercise: Vowel and others counter\n",
        "Define two variables, vowels and others, and set them both to be 0.\n",
        "Ask the user to enter a string (with input).\n",
        "Go through each character in the string, and check if it is a vowel.\n",
        "If so, then add 1 to vowels\n",
        "If not, then add 1 to others\n",
        "When the loop is done,\"\"\"\n",
        "\n",
        "\n",
        "vowels = 0\n",
        "other = 0\n",
        "user_word = input(\"Please enter a word: \").strip()\n",
        "for check_vowel in user_word:\n",
        "  if check_vowel in \"aeiou\":\n",
        "    vowels += 1\n",
        "  else:\n",
        "    other += 1\n",
        "\n",
        "print(f'vowels = {vowels}')\n",
        "print(f'others = {other}')\n",
        "\n"
      ],
      "metadata": {
        "colab": {
          "base_uri": "https://localhost:8080/"
        },
        "id": "kLIQVHEZOVZS",
        "outputId": "927fc56c-060a-41f8-fa56-d90d234d0b6e"
      },
      "execution_count": 3,
      "outputs": [
        {
          "output_type": "stream",
          "name": "stdout",
          "text": [
            "Please enter a word: i am samna\n",
            "vowels = 4\n",
            "others = 6\n"
          ]
        }
      ]
    },
    {
      "cell_type": "code",
      "source": [
        "\"\"\" Exercise: Vowel and others counter\n",
        "Define two variables, vowels and others, and set them both to be 0.\n",
        "Ask the user to enter a string (with input).\n",
        "Go through each character in the string, and check if it is a vowel.\n",
        "If so, then add 1 to vowels\n",
        "If not, then add 1 to others\n",
        "When the loop is done,\"\"\"\n",
        "\n",
        "\n",
        "variables = 0\n",
        "others = 0\n",
        "\n",
        "user_string = input(\"Please enter a string:\").strip()\n",
        "for i in user_string:\n",
        "  if i in \"aeiou\":\n",
        "    variables += 1\n",
        "  \n",
        "  else:\n",
        "    others += 1\n",
        "\n",
        "print(f'variables ={variables}')\n",
        "print(f'others = {others}')\n",
        "\n",
        "\n",
        "\n"
      ],
      "metadata": {
        "colab": {
          "base_uri": "https://localhost:8080/"
        },
        "id": "mIUp00ugJG2j",
        "outputId": "35f22cc0-3c8e-4f68-f70a-aedf94bc5f85"
      },
      "execution_count": 9,
      "outputs": [
        {
          "output_type": "stream",
          "name": "stdout",
          "text": [
            "Please enter a string:samna\n",
            "variables =2\n",
            "others = 3\n"
          ]
        }
      ]
    },
    {
      "cell_type": "code",
      "source": [
        "for count in range(3):\n",
        "  print(\"Yay!\")"
      ],
      "metadata": {
        "colab": {
          "base_uri": "https://localhost:8080/"
        },
        "id": "qIbKlFsik3Gt",
        "outputId": "2e68b731-9a6b-406f-c041-b3f324a6ee23"
      },
      "execution_count": 10,
      "outputs": [
        {
          "output_type": "stream",
          "name": "stdout",
          "text": [
            "Yay!\n",
            "Yay!\n",
            "Yay!\n"
          ]
        }
      ]
    },
    {
      "cell_type": "code",
      "source": [
        "# I want to run my for loop 3 times\n",
        "# I can do this with \"range\"\n",
        "# range returns an iterable object that runs a given number of times\n",
        "for count in range(3):\n",
        "  print(\"Yay!\")\n"
      ],
      "metadata": {
        "colab": {
          "base_uri": "https://localhost:8080/"
        },
        "id": "YNsjlQ4tlC9d",
        "outputId": "9cefa308-bd5f-4440-d3b4-a6bea55c50d9"
      },
      "execution_count": 11,
      "outputs": [
        {
          "output_type": "stream",
          "name": "stdout",
          "text": [
            "Yay!\n",
            "Yay!\n",
            "Yay!\n"
          ]
        }
      ]
    },
    {
      "cell_type": "code",
      "source": [
        "# what will be the values of \"count\" in our loop?\n",
        "# starting at 0, up to (and not including) the number we specify\n",
        "\n",
        "for count in range(3):\n",
        "  print(f'{count} yay!')"
      ],
      "metadata": {
        "colab": {
          "base_uri": "https://localhost:8080/"
        },
        "id": "sTV0B9zGlLul",
        "outputId": "81308916-4ec9-410d-b196-86158f0215de"
      },
      "execution_count": 14,
      "outputs": [
        {
          "output_type": "stream",
          "name": "stdout",
          "text": [
            "0 yay!\n",
            "1 yay!\n",
            "2 yay!\n"
          ]
        }
      ]
    },
    {
      "cell_type": "code",
      "source": [
        "for count in range(5):\n",
        "  print(f'{count} yay!')"
      ],
      "metadata": {
        "colab": {
          "base_uri": "https://localhost:8080/"
        },
        "id": "ZpScJlXVlq3x",
        "outputId": "3bf363d9-ad4e-4c9f-d385-dedbe2fa8960"
      },
      "execution_count": 15,
      "outputs": [
        {
          "output_type": "stream",
          "name": "stdout",
          "text": [
            "0 yay!\n",
            "1 yay!\n",
            "2 yay!\n",
            "3 yay!\n",
            "4 yay!\n"
          ]
        }
      ]
    },
    {
      "cell_type": "code",
      "source": [
        "for count in range(3,8):\n",
        "  print(f'{count} yay!')"
      ],
      "metadata": {
        "colab": {
          "base_uri": "https://localhost:8080/"
        },
        "id": "QFN0bKimuXy1",
        "outputId": "300077bb-4120-469b-d790-ba794e1e3ddf"
      },
      "execution_count": 17,
      "outputs": [
        {
          "output_type": "stream",
          "name": "stdout",
          "text": [
            "3 yay!\n",
            "4 yay!\n",
            "5 yay!\n",
            "6 yay!\n",
            "7 yay!\n"
          ]
        }
      ]
    },
    {
      "cell_type": "code",
      "source": [
        "# from 3 up to (and not including) 8, increasing by 2 each time\n",
        "for count in range(3,8,2):\n",
        "  print(f'{count} yay!')"
      ],
      "metadata": {
        "colab": {
          "base_uri": "https://localhost:8080/"
        },
        "id": "SN7Osrnfuton",
        "outputId": "214ec2f9-ccf0-43ab-e454-9bf6b87a9ed6"
      },
      "execution_count": 18,
      "outputs": [
        {
          "output_type": "stream",
          "name": "stdout",
          "text": [
            "3 yay!\n",
            "5 yay!\n",
            "7 yay!\n"
          ]
        }
      ]
    },
    {
      "cell_type": "markdown",
      "source": [
        "\n",
        "\n",
        "```\n",
        "Stopping the loop early\n",
        "There are two ways to stop our for loop early:\n",
        "\n",
        "We can exit from the loop completely, if we've accomplished our task. This is done with break.\n",
        "We can exit from the current iteration, if it's irrelevant or unnecessary, continuing with the next iteration. We do this with continue.\n",
        "```\n",
        "\n"
      ],
      "metadata": {
        "id": "-m7jczSMvHcE"
      }
    },
    {
      "cell_type": "markdown",
      "source": [
        ""
      ],
      "metadata": {
        "id": "AcIvWUPwI-Fv"
      }
    },
    {
      "cell_type": "code",
      "source": [
        "break"
      ],
      "metadata": {
        "colab": {
          "base_uri": "https://localhost:8080/",
          "height": 133
        },
        "id": "uBAlOgGbvPFm",
        "outputId": "f5f47ae2-b819-44dc-9260-f8106e60cf02"
      },
      "execution_count": 19,
      "outputs": [
        {
          "output_type": "error",
          "ename": "SyntaxError",
          "evalue": "ignored",
          "traceback": [
            "\u001b[0;36m  File \u001b[0;32m\"<ipython-input-19-6aaf1f276005>\"\u001b[0;36m, line \u001b[0;32m1\u001b[0m\n\u001b[0;31m    break\u001b[0m\n\u001b[0m         ^\u001b[0m\n\u001b[0;31mSyntaxError\u001b[0m\u001b[0;31m:\u001b[0m 'break' outside loop\n"
          ]
        }
      ]
    },
    {
      "cell_type": "code",
      "source": [
        "continue"
      ],
      "metadata": {
        "colab": {
          "base_uri": "https://localhost:8080/",
          "height": 133
        },
        "id": "MxxaEAbkvTUl",
        "outputId": "7fce3697-95c4-40b5-aa54-51d1e13d3273"
      },
      "execution_count": 20,
      "outputs": [
        {
          "output_type": "error",
          "ename": "SyntaxError",
          "evalue": "ignored",
          "traceback": [
            "\u001b[0;36m  File \u001b[0;32m\"<ipython-input-20-6ca52a340915>\"\u001b[0;36m, line \u001b[0;32m1\u001b[0m\n\u001b[0;31m    continue\u001b[0m\n\u001b[0m            ^\u001b[0m\n\u001b[0;31mSyntaxError\u001b[0m\u001b[0;31m:\u001b[0m 'continue' not properly in loop\n"
          ]
        }
      ]
    },
    {
      "cell_type": "code",
      "source": [
        "s = 'samna najeeb'\n",
        "for i in s:\n",
        "  if i == \" \":\n",
        "    continue\n",
        "  print(i)"
      ],
      "metadata": {
        "colab": {
          "base_uri": "https://localhost:8080/"
        },
        "id": "uiGcKpzVv2bg",
        "outputId": "cafa5fe0-68ea-46f4-c40c-c8111f9467c4"
      },
      "execution_count": 25,
      "outputs": [
        {
          "output_type": "stream",
          "name": "stdout",
          "text": [
            "s\n",
            "a\n",
            "m\n",
            "n\n",
            "a\n",
            "n\n",
            "a\n",
            "j\n",
            "e\n",
            "e\n",
            "b\n"
          ]
        }
      ]
    },
    {
      "cell_type": "code",
      "source": [
        ""
      ],
      "metadata": {
        "id": "lzWpyKGqwnRy"
      },
      "execution_count": null,
      "outputs": []
    },
    {
      "cell_type": "code",
      "source": [
        "\"\"\"Exercise: Name triangles\n",
        "Ask the user to enter their name, and assign to a variable, name.\n",
        "Print the user's name in a triangle, with the first letter on the first line, the full name on the final line, and each line in between \"growing\" by one letter.\n",
        "Example:\n",
        "\n",
        "Enter your name: Reuven\n",
        "R\n",
        "Re\n",
        "Reu\n",
        "Reuv\n",
        "Reuve\n",
        "Reuven\n",
        "\n",
        "Hints:\n",
        "\n",
        "Use len to get the length of a string\n",
        "Use range to run a for loop a particular number of times\n",
        "You can retrieve a \"slice\" from a string, where you specify the starting index and the ending index + 1 (e.g., s[2:5] or s[:5])\"\"\"\n",
        "\n",
        "\n",
        "name = input(\"Please enter your name: \").strip()\n",
        "for i in range(len(name)+1):\n",
        "  print(name[:i])\n",
        "\n",
        "\n"
      ],
      "metadata": {
        "colab": {
          "base_uri": "https://localhost:8080/"
        },
        "id": "E29nc78lV3iu",
        "outputId": "955d3bc5-1f61-4ea5-cef3-dfcf96b1dff2"
      },
      "execution_count": 6,
      "outputs": [
        {
          "output_type": "stream",
          "name": "stdout",
          "text": [
            "Please enter your name: samna\n",
            "\n",
            "s\n",
            "sa\n",
            "sam\n",
            "samn\n",
            "samna\n"
          ]
        }
      ]
    },
    {
      "cell_type": "code",
      "source": [
        "name = \"samna\"\n",
        "print(name[:1])\n",
        "print(name[:2])\n",
        "print(name[:3])\n",
        "print(name[:4])\n",
        "print(name[:5])"
      ],
      "metadata": {
        "colab": {
          "base_uri": "https://localhost:8080/"
        },
        "id": "arPOmvpQZR8Z",
        "outputId": "7f396954-eaeb-4ae6-c3c3-4f74e7fa9b44"
      },
      "execution_count": 7,
      "outputs": [
        {
          "output_type": "stream",
          "name": "stdout",
          "text": [
            "s\n",
            "sa\n",
            "sam\n",
            "samn\n",
            "samna\n"
          ]
        }
      ]
    },
    {
      "cell_type": "code",
      "source": [
        "name = input(\"Please enter your name: \").strip()\n",
        "for i in range(len(name)):\n",
        "  print(name[:i+1])"
      ],
      "metadata": {
        "colab": {
          "base_uri": "https://localhost:8080/"
        },
        "id": "qSAbtPeNZkue",
        "outputId": "af6228bd-1822-43f5-f822-e1f8b84c8417"
      },
      "execution_count": 9,
      "outputs": [
        {
          "output_type": "stream",
          "name": "stdout",
          "text": [
            "Please enter your name: samna\n",
            "s\n",
            "sa\n",
            "sam\n",
            "samn\n",
            "samna\n"
          ]
        }
      ]
    },
    {
      "cell_type": "code",
      "source": [
        "name = \"samna\"\n",
        "for i in range(len(name)):\n",
        "  print(name[:i+1])\n",
        "\n"
      ],
      "metadata": {
        "colab": {
          "base_uri": "https://localhost:8080/"
        },
        "id": "YrNz46qgxA_J",
        "outputId": "ab7eb831-7d90-4833-b041-f03763c6a9a6"
      },
      "execution_count": 31,
      "outputs": [
        {
          "output_type": "stream",
          "name": "stdout",
          "text": [
            "s\n",
            "sa\n",
            "sam\n",
            "samn\n",
            "samna\n"
          ]
        }
      ]
    },
    {
      "cell_type": "markdown",
      "source": [
        ""
      ],
      "metadata": {
        "id": "wH0m-9NsbBJA"
      }
    },
    {
      "cell_type": "markdown",
      "source": [
        "\n",
        "\n",
        "```\n",
        "while loops\n",
        "for loops iterate over an existing data structure, one element at a time. \n",
        "\n",
        "We'll get the first character, the second character, etc., \n",
        "until we get to the end. We know how many times the loop will run.\n",
        "\n",
        "By constrast, while loops are for when we don't know how many times \n",
        "we'll want to iterate, but we do know under what conditions we want to stop **bold text**. \n",
        "\n",
        "You can think of a while loop as an if statement that runs repeatedly \n",
        "until the condition is found to be False\n",
        "```\n",
        "\n"
      ],
      "metadata": {
        "id": "z-lEmKu7zEyT"
      }
    },
    {
      "cell_type": "markdown",
      "source": [
        "While loops\n"
      ],
      "metadata": {
        "id": "TmCAb3fSbDbP"
      }
    },
    {
      "cell_type": "code",
      "source": [
        ""
      ],
      "metadata": {
        "id": "Ny-Swksh0Ka9"
      },
      "execution_count": null,
      "outputs": []
    },
    {
      "cell_type": "markdown",
      "source": [
        ""
      ],
      "metadata": {
        "id": "DUJ_2eXv0CGG"
      }
    },
    {
      "cell_type": "code",
      "source": [
        "\"\"\"Exercise: Sum numbers\n",
        "Ask the user to enter our goal number (i.e., what we want to reach), and assign this to goal. (Remember to turn it into an integer!)\n",
        "Set total to be 0.\n",
        "Repeatedly ask the user to enter a number.\n",
        "If they enter something non-numeric, then scold them and let them try again\n",
        "If they enter something numeric, then add it to total, and print the current values of goal and total.\n",
        "Stop asking when the total is equal to or greater than goal.\n",
        "Example:\n",
        "\n",
        "Enter goal: 100\n",
        "Enter number: 20\n",
        "Total is 20, goal is 100\n",
        "Enter number: 30\n",
        "Total is 50, goal is 100\n",
        "Enter number\n",
        "Enter number: 40\n",
        "Total is 90, goal is 100\n",
        "Enter number:\n",
        "Total is 130, goal is 100\n",
        "Exiting\n",
        "Done, with total of 130\"\"\"\n",
        "goal = input(\"Please enter a goal number:\")\n",
        "Total = 0\n",
        "while Total < goal:\n",
        "  if goal != int(goal):\n",
        "    print(\"WTF! Enter a numeric value\")\n",
        "  else:\n",
        "    Total += goal\n",
        "    print(\"Total:\", Total)\n",
        "\n"
      ],
      "metadata": {
        "colab": {
          "base_uri": "https://localhost:8080/",
          "height": 258
        },
        "id": "o-O3r7fheJQk",
        "outputId": "b24e6af4-1fe7-4b0b-d179-8bd2700df6ab"
      },
      "execution_count": 13,
      "outputs": [
        {
          "name": "stdout",
          "output_type": "stream",
          "text": [
            "Please enter a goal number:sdnskjf;dk.s\n"
          ]
        },
        {
          "output_type": "error",
          "ename": "TypeError",
          "evalue": "ignored",
          "traceback": [
            "\u001b[0;31m---------------------------------------------------------------------------\u001b[0m",
            "\u001b[0;31mTypeError\u001b[0m                                 Traceback (most recent call last)",
            "\u001b[0;32m<ipython-input-13-7c469b50097d>\u001b[0m in \u001b[0;36m<module>\u001b[0;34m()\u001b[0m\n\u001b[1;32m     22\u001b[0m \u001b[0mgoal\u001b[0m \u001b[0;34m=\u001b[0m \u001b[0minput\u001b[0m\u001b[0;34m(\u001b[0m\u001b[0;34m\"Please enter a goal number:\"\u001b[0m\u001b[0;34m)\u001b[0m\u001b[0;34m\u001b[0m\u001b[0;34m\u001b[0m\u001b[0m\n\u001b[1;32m     23\u001b[0m \u001b[0mTotal\u001b[0m \u001b[0;34m=\u001b[0m \u001b[0;36m0\u001b[0m\u001b[0;34m\u001b[0m\u001b[0;34m\u001b[0m\u001b[0m\n\u001b[0;32m---> 24\u001b[0;31m \u001b[0;32mwhile\u001b[0m \u001b[0mTotal\u001b[0m \u001b[0;34m<\u001b[0m \u001b[0mgoal\u001b[0m\u001b[0;34m:\u001b[0m\u001b[0;34m\u001b[0m\u001b[0;34m\u001b[0m\u001b[0m\n\u001b[0m\u001b[1;32m     25\u001b[0m   \u001b[0;32mif\u001b[0m \u001b[0mgoal\u001b[0m \u001b[0;34m!=\u001b[0m \u001b[0mint\u001b[0m\u001b[0;34m(\u001b[0m\u001b[0mgoal\u001b[0m\u001b[0;34m)\u001b[0m\u001b[0;34m:\u001b[0m\u001b[0;34m\u001b[0m\u001b[0;34m\u001b[0m\u001b[0m\n\u001b[1;32m     26\u001b[0m     \u001b[0mprint\u001b[0m\u001b[0;34m(\u001b[0m\u001b[0;34m\"WTF! Enter a numeric value\"\u001b[0m\u001b[0;34m)\u001b[0m\u001b[0;34m\u001b[0m\u001b[0;34m\u001b[0m\u001b[0m\n",
            "\u001b[0;31mTypeError\u001b[0m: '<' not supported between instances of 'int' and 'str'"
          ]
        }
      ]
    },
    {
      "cell_type": "code",
      "source": [
        "\"\"\"Exercise: Powers of 10\n",
        "You might know that when we have a number like 123, that's actually 1*100 + 2*10 + 3*1. The number is 3 digits long, thus the first digit is multiplied by 10**2, the second by 10**1, and the third by 10**0 (anything to the 0th power is 1).\n",
        "\n",
        "Ask the user to enter a number. Print the number, one digit at a time, expanded with powers of 10.\n",
        "\n",
        "Example:\n",
        "\n",
        "Enter a number: 1234\n",
        "1234 = 1*1000 + 2*100 + 3*10 + 4*1\n",
        "\n",
        "Hints/reminders:\n",
        "\n",
        "Iterate over a string with for\n",
        "We can get the length of the string with len\n",
        "The exponentiation operator in Python is **, so 2**3 is 8.\"\"\"\n",
        "\n"
      ],
      "metadata": {
        "id": "_I9tgj2_kRN9"
      },
      "execution_count": null,
      "outputs": []
    },
    {
      "cell_type": "code",
      "source": [
        "\"\"\"Exercise: Odds and evens\n",
        "Define two empty lists, odds and evens.\n",
        "Ask the user, repeatedly, to enter a number.\n",
        "If they enter an empty string, exit the loop\n",
        "If they enter a non-numeric string, scold them and try again\n",
        "Turn the user's input into an integer, and check if it's odd or even. If it's odd, add it to odds. If it's even, add it to evens.\n",
        "After the loop, print both odds and evens.\"\"\"\n",
        "\n",
        "odds = []\n",
        "evens = []\n",
        "s = Input(\"Enter the digits:\")\n",
        "while True:\n",
        "  \n",
        "\n",
        "\n",
        "\n",
        "\n",
        "\n"
      ],
      "metadata": {
        "id": "2nxdc_9vuvig"
      },
      "execution_count": null,
      "outputs": []
    },
    {
      "cell_type": "code",
      "source": [
        "\"\"\"Exercise: Vowels, digits, and others\n",
        "Define three empty lists -- vowels, digits, and others.\n",
        "Repeatedly ask the user to enter a string.\n",
        "If the user enters an empty string, stop asking and exit from the loop.\n",
        "Go through each character in the string, and check:\n",
        "If it's a vowel (a,e, i, o, u) then add it to the vowels list\n",
        "If it's a digit (0-9) then add it to the digits list\n",
        "In other cases, add it to the others list\n",
        "After the loop ends, print the value of each list.\"\"\"\n",
        "\n",
        "vowels = []\n",
        "digits = []\n",
        "others = []\n",
        "\n",
        "while True:\n",
        "  s = input(\"Please enter a string:\").strip()\n",
        "  if s  == \"\":\n",
        "    break\n",
        "  elif s in ['a','e','i','o','u']:\n",
        "    vowels.append(s)\n",
        "  elif s is.digit():\n",
        "    digits.append(s)\n",
        "  else:\n",
        "    break\n",
        "\n",
        "print(s)\n"
      ],
      "metadata": {
        "colab": {
          "base_uri": "https://localhost:8080/",
          "height": 133
        },
        "id": "RTup6IClyRkJ",
        "outputId": "896b83b7-519f-46ab-f704-5eb3a5ab43f6"
      },
      "execution_count": 1,
      "outputs": [
        {
          "output_type": "error",
          "ename": "SyntaxError",
          "evalue": "ignored",
          "traceback": [
            "\u001b[0;36m  File \u001b[0;32m\"<ipython-input-1-10d16fa85e9d>\"\u001b[0;36m, line \u001b[0;32m21\u001b[0m\n\u001b[0;31m    elif s is.digit():\u001b[0m\n\u001b[0m             ^\u001b[0m\n\u001b[0;31mSyntaxError\u001b[0m\u001b[0;31m:\u001b[0m invalid syntax\n"
          ]
        }
      ]
    },
    {
      "cell_type": "code",
      "source": [
        "\"\"\"Exercise: Pig Latin sentence\n",
        "Ask the user to enter a sentence (all lowercase, no punctuation).\n",
        "Modify the existing program such that it translates each word into Pig Latin, and prints the translation.\n",
        "Example:\n",
        "\n",
        "Enter sentence: hello out there\n",
        "ellohay outway heretay\"\"\"\n",
        "\n",
        "sentance = input(\"enter a sentence (all lowercase, no punctuation): \").strip()\n",
        "\n",
        "while True:\n",
        "  if sentance in 'aeiou':\n",
        "    print('' + way)\n",
        "  else:\n",
        "    print()"
      ],
      "metadata": {
        "id": "YN-TTWfE3sP8"
      },
      "execution_count": null,
      "outputs": []
    }
  ]
}